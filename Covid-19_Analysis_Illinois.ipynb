{
 "cells": [
  {
   "cell_type": "code",
   "execution_count": 2,
   "metadata": {},
   "outputs": [],
   "source": [
    "import numpy as np\n",
    "import pandas as pd\n",
    "%matplotlib inline\n",
    "import matplotlib.pyplot as plt"
   ]
  },
  {
   "cell_type": "code",
   "execution_count": 3,
   "metadata": {},
   "outputs": [],
   "source": [
    "df = pd.read_csv(\"covid-19-data/us-states.csv\")"
   ]
  },
  {
   "cell_type": "code",
   "execution_count": 4,
   "metadata": {},
   "outputs": [],
   "source": [
    "illinois_bool = df[\"state\"]==\"Illinois\""
   ]
  },
  {
   "cell_type": "code",
   "execution_count": 5,
   "metadata": {},
   "outputs": [],
   "source": [
    "illinois = df[illinois_bool]"
   ]
  },
  {
   "cell_type": "code",
   "execution_count": 6,
   "metadata": {},
   "outputs": [],
   "source": [
    "illinois_firstDeath = illinois[\"deaths\"] > 0"
   ]
  },
  {
   "cell_type": "code",
   "execution_count": 7,
   "metadata": {},
   "outputs": [],
   "source": [
    "illinois_firstDeath = illinois[illinois_firstDeath]"
   ]
  },
  {
   "cell_type": "code",
   "execution_count": 8,
   "metadata": {},
   "outputs": [
    {
     "name": "stdout",
     "output_type": "stream",
     "text": [
      "-------------------------------------------------------------------------\n",
      "Yesterday's numbers\n",
      "\n",
      "            date     state  fips  cases  deaths\n",
      "2008  2020-04-08  Illinois    17  15078     464\n",
      "-------------------------------------------------------------------------\n"
     ]
    }
   ],
   "source": [
    "print(\"-------------------------------------------------------------------------\")\n",
    "total_deaths = illinois[-1:]\n",
    "print(\"Yesterday's numbers\\n\\n\" + str(total_deaths))\n",
    "print(\"-------------------------------------------------------------------------\")"
   ]
  },
  {
   "cell_type": "code",
   "execution_count": 9,
   "metadata": {},
   "outputs": [
    {
     "data": {
      "text/plain": [
       "[<matplotlib.lines.Line2D at 0x7f9e91ecd0d0>]"
      ]
     },
     "execution_count": 9,
     "metadata": {},
     "output_type": "execute_result"
    },
    {
     "data": {
      "image/png": "[encoded data removed]",
      "text/plain": [
       "<Figure size 432x288 with 1 Axes>"
      ]
     },
     "metadata": {
      "needs_background": "light"
     },
     "output_type": "display_data"
    }
   ],
   "source": [
    "plt.xticks(rotation=\"90\")\n",
    "plt.title(\"Total Deaths\")\n",
    "plt.plot(illinois_firstDeath[\"date\"], illinois_firstDeath[\"deaths\"])"
   ]
  },
  {
   "cell_type": "markdown",
   "metadata": {},
   "source": [
    "<h4>Plot the number of cases from when the number of cases were greather than 50</h4>"
   ]
  },
  {
   "cell_type": "code",
   "execution_count": 10,
   "metadata": {},
   "outputs": [],
   "source": [
    "illinois_firstCase = illinois[\"cases\"]>50"
   ]
  },
  {
   "cell_type": "code",
   "execution_count": 11,
   "metadata": {},
   "outputs": [],
   "source": [
    "illinois_firstCase = illinois[illinois_firstCase]"
   ]
  },
  {
   "cell_type": "code",
   "execution_count": 12,
   "metadata": {},
   "outputs": [
    {
     "name": "stdout",
     "output_type": "stream",
     "text": [
      "\n",
      "Total number of cases\n"
     ]
    },
    {
     "data": {
      "text/plain": [
       "[<matplotlib.lines.Line2D at 0x7f9e916571d0>]"
      ]
     },
     "execution_count": 12,
     "metadata": {},
     "output_type": "execute_result"
    },
    {
     "data": {
      "image/png": "[encoded data removed]",
      "text/plain": [
       "<Figure size 432x288 with 1 Axes>"
      ]
     },
     "metadata": {
      "needs_background": "light"
     },
     "output_type": "display_data"
    }
   ],
   "source": [
    "print(\"\\nTotal number of cases\")\n",
    "plt.xticks(rotation = \"90\")\n",
    "plt.title(\"Total Cases\")\n",
    "plt.plot(illinois_firstCase[\"date\"], illinois_firstCase[\"cases\"])"
   ]
  },
  {
   "cell_type": "markdown",
   "metadata": {},
   "source": [
    "<h4>Get date of largest increase in death</h4>"
   ]
  },
  {
   "cell_type": "code",
   "execution_count": 13,
   "metadata": {
    "scrolled": true
   },
   "outputs": [
    {
     "name": "stdout",
     "output_type": "stream",
     "text": [
      "-------------------------------------------------------------------------\n",
      "\n",
      "Max deaths in one day: 80\n",
      "\n",
      "Date of max deaths: 2020-04-08\n",
      "\n",
      "-------------------------------------------------------------------------\n"
     ]
    }
   ],
   "source": [
    "print(\"-------------------------------------------------------------------------\")\n",
    "i = 0\n",
    "max_deaths = 0\n",
    "diff = 0\n",
    "for index, row in illinois.iterrows():\n",
    "    if i != 0 and illinois.loc[index, \"deaths\"] != 0:\n",
    "        diff = illinois.loc[index, \"deaths\"] - illinois.loc[prev_index, \"deaths\"]\n",
    "        if (diff >= max_deaths):\n",
    "            if (diff == max_deaths):\n",
    "                max_date = str(max_date) + \", \" + str(illinois.loc[index, \"date\"])\n",
    "            else:\n",
    "                max_date = illinois.loc[index, \"date\"]\n",
    "            max_deaths = diff\n",
    "            \n",
    "    if illinois.loc[index, \"deaths\"] != 0 or i == 0:\n",
    "        prev_index = index\n",
    "    i = i + 1\n",
    "print(\"\\nMax deaths in one day: \" + str(max_deaths))\n",
    "print(\"\\nDate of max deaths: \" + str(max_date)+\"\\n\")\n",
    "print(\"-------------------------------------------------------------------------\")"
   ]
  },
  {
   "cell_type": "markdown",
   "metadata": {},
   "source": [
    "<h4>Get the past week's numbers</h4>"
   ]
  },
  {
   "cell_type": "code",
   "execution_count": 14,
   "metadata": {
    "scrolled": true
   },
   "outputs": [
    {
     "name": "stdout",
     "output_type": "stream",
     "text": [
      "\n",
      "-------------------------------------------------------------------------\n",
      "The past week's numbers\n",
      "\n",
      "            date     state  fips  cases  deaths\n",
      "1678  2020-04-02  Illinois    17   7695     165\n",
      "1733  2020-04-03  Illinois    17   8904     211\n",
      "1788  2020-04-04  Illinois    17  10357     248\n",
      "1843  2020-04-05  Illinois    17  11276     282\n",
      "1898  2020-04-06  Illinois    17  12262     309\n",
      "1953  2020-04-07  Illinois    17  13549     384\n",
      "2008  2020-04-08  Illinois    17  15078     464\n",
      "-------------------------------------------------------------------------\n"
     ]
    }
   ],
   "source": [
    "print(\"\\n-------------------------------------------------------------------------\")\n",
    "print(\"The past week's numbers\\n\")\n",
    "print(illinois[-7:])\n",
    "print(\"-------------------------------------------------------------------------\")"
   ]
  },
  {
   "cell_type": "markdown",
   "metadata": {},
   "source": [
    "<h4>Total deaths overnight</h4>"
   ]
  },
  {
   "cell_type": "code",
   "execution_count": 15,
   "metadata": {},
   "outputs": [
    {
     "name": "stdout",
     "output_type": "stream",
     "text": [
      "-------------------------------------------------------------------------\n",
      "Total overnight deaths = 80\n",
      "-------------------------------------------------------------------------\n"
     ]
    }
   ],
   "source": [
    "print(\"-------------------------------------------------------------------------\")\n",
    "total_overnight_deaths = illinois.iloc[-1][\"deaths\"] - illinois.iloc[-2][\"deaths\"]\n",
    "print(\"Total overnight deaths = \" + str(total_overnight_deaths))\n",
    "print(\"-------------------------------------------------------------------------\")"
   ]
  },
  {
   "cell_type": "code",
   "execution_count": 16,
   "metadata": {},
   "outputs": [
    {
     "name": "stdout",
     "output_type": "stream",
     "text": [
      "-------------------------------------------------------------------------\n",
      "Daily average cases = 628.25\n",
      "Daily average deaths = 19.333333333333332\n"
     ]
    }
   ],
   "source": [
    "# Get daily numbers \n",
    "\n",
    "# create dictinary where key is date and value is dict in that dict\n",
    "# the key is either \"deaths\" or \"cases\" and the value is its respective value\n",
    "numbers = {}\n",
    "i = 0\n",
    "for index, row in illinois.iterrows():\n",
    "    if i != 0 and illinois.loc[index, \"deaths\"] != 0 and illinois.loc[index, \"cases\"] != 0:\n",
    "        cases  = illinois.loc[index, \"cases\"] - illinois.loc[prev_index, \"cases\"]\n",
    "        deaths  = illinois.loc[index, \"deaths\"] - illinois.loc[prev_index, \"deaths\"]\n",
    "        numbers[str(row[\"date\"])] = (cases, deaths)\n",
    "    elif i == 0:\n",
    "        cases = row[\"cases\"]\n",
    "        deaths = row[\"deaths\"]\n",
    "        numbers[str(row[\"date\"])] = (cases, deaths)\n",
    "            \n",
    "    if illinois.loc[index, \"deaths\"] != 0 or i == 0:\n",
    "        prev_index = index\n",
    "        \n",
    "    i = i + 1\n",
    "\n",
    "print(\"-------------------------------------------------------------------------\")\n",
    "sum_cases = 0\n",
    "sum_deaths = 0\n",
    "n = 0\n",
    "for key in numbers:\n",
    "    n = n + 1\n",
    "    sum_cases = int(sum_cases) + int(numbers[key][0])\n",
    "    sum_deaths = int(sum_deaths) + int(numbers[key][1])\n",
    "    \n",
    "if n != 0:\n",
    "    daily_average_cases = sum_cases/n\n",
    "    daily_average_deaths = sum_deaths/n\n",
    "    \n",
    "print(\"Daily average cases = \" + str(daily_average_cases))\n",
    "print(\"Daily average deaths = \" + str(daily_average_deaths))"
   ]
  }
 ],
 "metadata": {
  "kernelspec": {
   "display_name": "Python 3",
   "language": "python",
   "name": "python3"
  },
  "language_info": {
   "codemirror_mode": {
    "name": "ipython",
    "version": 3
   },
   "file_extension": ".py",
   "mimetype": "text/x-python",
   "name": "python",
   "nbconvert_exporter": "python",
   "pygments_lexer": "ipython3",
   "version": "3.7.7"
  }
 },
 "nbformat": 4,
 "nbformat_minor": 4
}
