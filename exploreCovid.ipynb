{
 "cells": [
  {
   "cell_type": "code",
   "execution_count": 17,
   "metadata": {},
   "outputs": [],
   "source": [
    "import numpy as np\n",
    "import pandas as pd\n",
    "%matplotlib inline\n",
    "import matplotlib.pyplot as plt"
   ]
  },
  {
   "cell_type": "code",
   "execution_count": 139,
   "metadata": {},
   "outputs": [],
   "source": [
    "df = pd.read_csv(\"covid-19-data/us-counties.csv\")"
   ]
  },
  {
   "cell_type": "code",
   "execution_count": 163,
   "metadata": {},
   "outputs": [],
   "source": [
    "cook_counties = ((df[\"county\"]==\"Cook\") & (df[\"state\"]==\"Illinois\"))"
   ]
  },
  {
   "cell_type": "code",
   "execution_count": 165,
   "metadata": {},
   "outputs": [],
   "source": [
    "cook_county = df[cook_counties]"
   ]
  },
  {
   "cell_type": "code",
   "execution_count": 166,
   "metadata": {},
   "outputs": [],
   "source": [
    "cook_county_firstDeath = cook_county[\"deaths\"] > 0"
   ]
  },
  {
   "cell_type": "code",
   "execution_count": 167,
   "metadata": {},
   "outputs": [],
   "source": [
    "cook_firstDeath = cook_county[cook_county_firstDeath]"
   ]
  },
  {
   "cell_type": "code",
   "execution_count": 179,
   "metadata": {},
   "outputs": [
    {
     "data": {
      "text/plain": [
       "Text(0.5, 1.0, 'Total Deaths')"
      ]
     },
     "execution_count": 179,
     "metadata": {},
     "output_type": "execute_result"
    },
    {
     "data": {
      "image/png": "[encoded data removed]",
      "text/plain": [
       "<Figure size 432x288 with 1 Axes>"
      ]
     },
     "metadata": {
      "needs_background": "light"
     },
     "output_type": "display_data"
    }
   ],
   "source": [
    "plt.plot(cook_firstDeath[\"date\"], cook_firstDeath[\"deaths\"])\n",
    "plt.xticks(rotation=\"90\")\n",
    "plt.title(\"Total Deaths\")"
   ]
  },
  {
   "cell_type": "markdown",
   "metadata": {},
   "source": [
    "<ul>Plot the number of cases from when the number of cases were greather than 50</ul>"
   ]
  },
  {
   "cell_type": "code",
   "execution_count": 175,
   "metadata": {},
   "outputs": [],
   "source": [
    "cook_county_firstCase = cook_county[\"cases\"]>50"
   ]
  },
  {
   "cell_type": "code",
   "execution_count": 176,
   "metadata": {},
   "outputs": [],
   "source": [
    "cook_firstCase = cook_county[cook_county_firstCase]"
   ]
  },
  {
   "cell_type": "code",
   "execution_count": 209,
   "metadata": {},
   "outputs": [
    {
     "data": {
      "text/plain": [
       "Text(0.5, 1.0, 'Total Cases')"
      ]
     },
     "execution_count": 209,
     "metadata": {},
     "output_type": "execute_result"
    },
    {
     "data": {
      "image/png": "[encoded data removed]",
      "text/plain": [
       "<Figure size 432x288 with 1 Axes>"
      ]
     },
     "metadata": {
      "needs_background": "light"
     },
     "output_type": "display_data"
    }
   ],
   "source": [
    "plt.plot(cook_firstCase[\"date\"], cook_firstCase[\"cases\"])\n",
    "plt.xticks(rotation = \"90\")\n",
    "plt.title(\"Total Cases\")"
   ]
  },
  {
   "cell_type": "markdown",
   "metadata": {},
   "source": [
    "<h4>Get date of largest increase in death</h4>"
   ]
  },
  {
   "cell_type": "code",
   "execution_count": 208,
   "metadata": {
    "scrolled": true
   },
   "outputs": [
    {
     "name": "stdout",
     "output_type": "stream",
     "text": [
      "\n",
      "Max deaths in one day: 34\n",
      "\n",
      "Date of max deaths: 2020-04-01, 2020-04-03\n",
      "\n"
     ]
    }
   ],
   "source": [
    "i = 0\n",
    "max_deaths = 0\n",
    "diff = 0\n",
    "for index, row in cook_county.iterrows():\n",
    "    if i != 0 and cook_county.loc[index, \"deaths\"] != 0:\n",
    "        diff = cook_county.loc[index, \"deaths\"] - cook_county.loc[prev_index, \"deaths\"]\n",
    "        if (diff >= max_deaths):\n",
    "            if (diff == max_deaths):\n",
    "                max_date = str(max_date) + \", \" + str(cook_county.loc[index, \"date\"])\n",
    "            else:\n",
    "                max_date = cook_county.loc[index, \"date\"]\n",
    "            max_deaths = diff\n",
    "            \n",
    "    if cook_county.loc[index, \"deaths\"] != 0 or i == 0:\n",
    "        prev_index = index\n",
    "    i = i + 1\n",
    "print(\"\\nMax deaths in one day: \" + str(max_deaths))\n",
    "print(\"\\nDate of max deaths: \" + str(max_date)+\"\\n\")"
   ]
  },
  {
   "cell_type": "markdown",
   "metadata": {},
   "source": [
    "<h4>Get the past week's numbers</h4>"
   ]
  },
  {
   "cell_type": "code",
   "execution_count": 202,
   "metadata": {},
   "outputs": [
    {
     "name": "stdout",
     "output_type": "stream",
     "text": [
      "\n",
      "The past week's numbers\n",
      "\n",
      "             date county     state     fips  cases  deaths\n",
      "18166  2020-03-29   Cook  Illinois  17031.0   3445      40\n",
      "20181  2020-03-30   Cook  Illinois  17031.0   3727      44\n",
      "22287  2020-03-31   Cook  Illinois  17031.0   4496      61\n",
      "24468  2020-04-01   Cook  Illinois  17031.0   5152      95\n",
      "26708  2020-04-02   Cook  Illinois  17031.0   5575     107\n",
      "29011  2020-04-03   Cook  Illinois  17031.0   6473     141\n",
      "31375  2020-04-04   Cook  Illinois  17031.0   7439     167\n",
      "\n",
      "\n"
     ]
    }
   ],
   "source": [
    "print(\"\\nThe past week's numbers\\n\")\n",
    "print(cook_county[-7:])\n",
    "print(\"\\n\")"
   ]
  },
  {
   "cell_type": "markdown",
   "metadata": {},
   "source": [
    "<h4>Total deaths overnight</h4>"
   ]
  },
  {
   "cell_type": "code",
   "execution_count": 190,
   "metadata": {},
   "outputs": [],
   "source": [
    "total_overnight_deaths = cook_county.iloc[-1][\"deaths\"] - cook_county.iloc[-2][\"deaths\"]"
   ]
  },
  {
   "cell_type": "code",
   "execution_count": 193,
   "metadata": {},
   "outputs": [
    {
     "name": "stdout",
     "output_type": "stream",
     "text": [
      "Total overnight deaths :( = 26\n"
     ]
    }
   ],
   "source": [
    "print(\"Total overnight deaths :( = \" + str(total_overnight_deaths))"
   ]
  },
  {
   "cell_type": "code",
   "execution_count": null,
   "metadata": {},
   "outputs": [],
   "source": []
  }
 ],
 "metadata": {
  "kernelspec": {
   "display_name": "Python 3",
   "language": "python",
   "name": "python3"
  },
  "language_info": {
   "codemirror_mode": {
    "name": "ipython",
    "version": 3
   },
   "file_extension": ".py",
   "mimetype": "text/x-python",
   "name": "python",
   "nbconvert_exporter": "python",
   "pygments_lexer": "ipython3",
   "version": "3.7.7"
  }
 },
 "nbformat": 4,
 "nbformat_minor": 4
}
