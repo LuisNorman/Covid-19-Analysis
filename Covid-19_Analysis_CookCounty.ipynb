{
 "cells": [
  {
   "cell_type": "code",
   "execution_count": 1,
   "metadata": {},
   "outputs": [],
   "source": [
    "import numpy as np\n",
    "import pandas as pd\n",
    "%matplotlib inline\n",
    "import matplotlib.pyplot as plt"
   ]
  },
  {
   "cell_type": "code",
   "execution_count": 2,
   "metadata": {},
   "outputs": [],
   "source": [
    "df = pd.read_csv(\"covid-19-data/us-counties.csv\")"
   ]
  },
  {
   "cell_type": "code",
   "execution_count": 3,
   "metadata": {},
   "outputs": [],
   "source": [
    "cook_counties = ((df[\"county\"]==\"Cook\") & (df[\"state\"]==\"Illinois\"))"
   ]
  },
  {
   "cell_type": "code",
   "execution_count": 4,
   "metadata": {},
   "outputs": [],
   "source": [
    "cook_county = df[cook_counties]"
   ]
  },
  {
   "cell_type": "code",
   "execution_count": 5,
   "metadata": {},
   "outputs": [],
   "source": [
    "cook_county_firstDeath = cook_county[\"deaths\"] > 0"
   ]
  },
  {
   "cell_type": "code",
   "execution_count": 6,
   "metadata": {},
   "outputs": [],
   "source": [
    "cook_firstDeath = cook_county[cook_county_firstDeath]"
   ]
  },
  {
   "cell_type": "code",
   "execution_count": 7,
   "metadata": {},
   "outputs": [
    {
     "name": "stdout",
     "output_type": "stream",
     "text": [
      "-------------------------------------------------------------------------\n",
      "Yesterday's numbers\n",
      "\n",
      "             date county     state     fips  cases  deaths\n",
      "73556  2020-04-20   Cook  Illinois  17031.0  22101     915\n",
      "-------------------------------------------------------------------------\n"
     ]
    }
   ],
   "source": [
    "print(\"-------------------------------------------------------------------------\")\n",
    "total_deaths = cook_county[-1:]\n",
    "print(\"Yesterday's numbers\\n\\n\" + str(total_deaths))\n",
    "print(\"-------------------------------------------------------------------------\")"
   ]
  },
  {
   "cell_type": "code",
   "execution_count": 8,
   "metadata": {},
   "outputs": [
    {
     "data": {
      "text/plain": [
       "[<matplotlib.lines.Line2D at 0x7f25d89da190>]"
      ]
     },
     "execution_count": 8,
     "metadata": {},
     "output_type": "execute_result"
    },
    {
     "data": {
      "image/png": "[encoded data removed]",
      "text/plain": [
       "<Figure size 432x288 with 1 Axes>"
      ]
     },
     "metadata": {
      "needs_background": "light"
     },
     "output_type": "display_data"
    }
   ],
   "source": [
    "plt.xticks(rotation=\"90\")\n",
    "plt.title(\"Total Deaths\")\n",
    "plt.plot(cook_firstDeath[\"date\"], cook_firstDeath[\"deaths\"])"
   ]
  },
  {
   "cell_type": "markdown",
   "metadata": {},
   "source": [
    "<h4>Plot the number of cases from when the number of cases were greather than 50</h4>"
   ]
  },
  {
   "cell_type": "code",
   "execution_count": 9,
   "metadata": {},
   "outputs": [],
   "source": [
    "cook_county_firstCase = cook_county[\"cases\"]>50"
   ]
  },
  {
   "cell_type": "code",
   "execution_count": 10,
   "metadata": {},
   "outputs": [],
   "source": [
    "cook_firstCase = cook_county[cook_county_firstCase]"
   ]
  },
  {
   "cell_type": "code",
   "execution_count": 11,
   "metadata": {},
   "outputs": [
    {
     "name": "stdout",
     "output_type": "stream",
     "text": [
      "\n",
      "Total number of cases\n"
     ]
    },
    {
     "data": {
      "text/plain": [
       "[<matplotlib.lines.Line2D at 0x7f25d79750d0>]"
      ]
     },
     "execution_count": 11,
     "metadata": {},
     "output_type": "execute_result"
    },
    {
     "data": {
      "image/png": "[encoded data removed]",
      "text/plain": [
       "<Figure size 432x288 with 1 Axes>"
      ]
     },
     "metadata": {
      "needs_background": "light"
     },
     "output_type": "display_data"
    }
   ],
   "source": [
    "print(\"\\nTotal number of cases\")\n",
    "plt.xticks(rotation = \"90\")\n",
    "plt.title(\"Total Cases\")\n",
    "plt.plot(cook_firstCase[\"date\"], cook_firstCase[\"cases\"])"
   ]
  },
  {
   "cell_type": "markdown",
   "metadata": {},
   "source": [
    "<h4>Get date of largest increase in death</h4>"
   ]
  },
  {
   "cell_type": "code",
   "execution_count": 12,
   "metadata": {
    "scrolled": true
   },
   "outputs": [
    {
     "name": "stdout",
     "output_type": "stream",
     "text": [
      "-------------------------------------------------------------------------\n",
      "\n",
      "Max deaths in one day: 100\n",
      "\n",
      "Date of max deaths: 2020-04-18\n",
      "\n",
      "-------------------------------------------------------------------------\n"
     ]
    }
   ],
   "source": [
    "print(\"-------------------------------------------------------------------------\")\n",
    "i = 0\n",
    "max_deaths = 0\n",
    "diff = 0\n",
    "for index, row in cook_county.iterrows():\n",
    "    if i != 0 and cook_county.loc[index, \"deaths\"] != 0:\n",
    "        diff = cook_county.loc[index, \"deaths\"] - cook_county.loc[prev_index, \"deaths\"]\n",
    "        if (diff >= max_deaths):\n",
    "            if (diff == max_deaths):\n",
    "                max_date = str(max_date) + \", \" + str(cook_county.loc[index, \"date\"])\n",
    "            else:\n",
    "                max_date = cook_county.loc[index, \"date\"]\n",
    "            max_deaths = diff\n",
    "            \n",
    "    if cook_county.loc[index, \"deaths\"] != 0 or i == 0:\n",
    "        prev_index = index\n",
    "    i = i + 1\n",
    "print(\"\\nMax deaths in one day: \" + str(max_deaths))\n",
    "print(\"\\nDate of max deaths: \" + str(max_date)+\"\\n\")\n",
    "print(\"-------------------------------------------------------------------------\")"
   ]
  },
  {
   "cell_type": "markdown",
   "metadata": {},
   "source": [
    "<h4>Get the past week's numbers</h4>"
   ]
  },
  {
   "cell_type": "code",
   "execution_count": 13,
   "metadata": {
    "scrolled": true
   },
   "outputs": [
    {
     "name": "stdout",
     "output_type": "stream",
     "text": [
      "\n",
      "-------------------------------------------------------------------------\n",
      "The past week's numbers\n",
      "\n",
      "             date county     state     fips  cases  deaths\n",
      "57107  2020-04-14   Cook  Illinois  17031.0  16323     577\n",
      "59814  2020-04-15   Cook  Illinois  17031.0  17306     630\n",
      "62539  2020-04-16   Cook  Illinois  17031.0  18087     722\n",
      "65273  2020-04-17   Cook  Illinois  17031.0  19391     760\n",
      "68023  2020-04-18   Cook  Illinois  17031.0  20395     860\n",
      "70785  2020-04-19   Cook  Illinois  17031.0  21272     877\n",
      "73556  2020-04-20   Cook  Illinois  17031.0  22101     915\n",
      "-------------------------------------------------------------------------\n"
     ]
    }
   ],
   "source": [
    "print(\"\\n-------------------------------------------------------------------------\")\n",
    "print(\"The past week's numbers\\n\")\n",
    "print(cook_county[-7:])\n",
    "print(\"-------------------------------------------------------------------------\")"
   ]
  },
  {
   "cell_type": "markdown",
   "metadata": {},
   "source": [
    "<h4>Total deaths overnight</h4>"
   ]
  },
  {
   "cell_type": "code",
   "execution_count": 14,
   "metadata": {},
   "outputs": [
    {
     "name": "stdout",
     "output_type": "stream",
     "text": [
      "-------------------------------------------------------------------------\n",
      "Total overnight deaths = 38\n",
      "-------------------------------------------------------------------------\n"
     ]
    }
   ],
   "source": [
    "print(\"-------------------------------------------------------------------------\")\n",
    "total_overnight_deaths = cook_county.iloc[-1][\"deaths\"] - cook_county.iloc[-2][\"deaths\"]\n",
    "print(\"Total overnight deaths = \" + str(total_overnight_deaths))\n",
    "print(\"-------------------------------------------------------------------------\")"
   ]
  },
  {
   "cell_type": "markdown",
   "metadata": {},
   "source": [
    "<h4>Total cases overnight</h4>"
   ]
  },
  {
   "cell_type": "code",
   "execution_count": 15,
   "metadata": {},
   "outputs": [
    {
     "name": "stdout",
     "output_type": "stream",
     "text": [
      "-------------------------------------------------------------------------\n",
      "Total overnight cases = 829\n",
      "-------------------------------------------------------------------------\n"
     ]
    }
   ],
   "source": [
    "print(\"-------------------------------------------------------------------------\")\n",
    "total_overnight_cases = cook_county.iloc[-1][\"cases\"] - cook_county.iloc[-2][\"cases\"]\n",
    "print(\"Total overnight cases = \" + str(total_overnight_cases))\n",
    "print(\"-------------------------------------------------------------------------\")"
   ]
  },
  {
   "cell_type": "code",
   "execution_count": null,
   "metadata": {},
   "outputs": [],
   "source": []
  }
 ],
 "metadata": {
  "kernelspec": {
   "display_name": "Python 3",
   "language": "python",
   "name": "python3"
  },
  "language_info": {
   "codemirror_mode": {
    "name": "ipython",
    "version": 3
   },
   "file_extension": ".py",
   "mimetype": "text/x-python",
   "name": "python",
   "nbconvert_exporter": "python",
   "pygments_lexer": "ipython3",
   "version": "3.7.7"
  }
 },
 "nbformat": 4,
 "nbformat_minor": 4
}
